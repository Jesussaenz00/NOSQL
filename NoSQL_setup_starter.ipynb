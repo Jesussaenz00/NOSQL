{
 "cells": [
  {
   "cell_type": "markdown",
   "id": "9a57c4c6",
   "metadata": {},
   "source": [
    "# Eat Safe, Love"
   ]
  },
  {
   "cell_type": "markdown",
   "id": "064ef857",
   "metadata": {},
   "source": [
    "## Part 1: Database and Jupyter Notebook Set Up"
   ]
  },
  {
   "cell_type": "markdown",
   "id": "664e3c1f",
   "metadata": {},
   "source": [
    "Import the data provided in the `establishments.json` file from your Terminal. Name the database `uk_food` and the collection `establishments`.\n",
    "\n",
    "Within this markdown cell, copy the line of text you used to import the data from your Terminal. This way, future analysts will be able to repeat your process.\n",
    "\n",
    "e.g.: Import the dataset with `YOUR IMPORT TEXT HERE`"
   ]
  },
  {
   "cell_type": "code",
   "execution_count": null,
   "id": "3ecdd008",
   "metadata": {},
   "outputs": [],
   "source": [
    "# Import dependencies\n",
    "from pymongo import MongoClient\n",
    "from pprint import pprint\n",
    "from pymongo import UpdateOne"
   ]
  },
  {
   "cell_type": "code",
   "execution_count": null,
   "id": "59390c4a",
   "metadata": {},
   "outputs": [],
   "source": [
    "# Create an instance of MongoClient\n",
    "mongo = MongoClient(host='localhost',port=27017)"
   ]
  },
  {
   "cell_type": "code",
   "execution_count": null,
   "id": "7f9ececa",
   "metadata": {},
   "outputs": [],
   "source": [
    "# confirm that our new database was created\n",
    "print(mongo.list_database_names())"
   ]
  },
  {
   "cell_type": "code",
   "execution_count": null,
   "id": "71e373c1",
   "metadata": {},
   "outputs": [],
   "source": [
    "# assign the uk_food database to a variable name\n",
    "db = mongo['uk_food']"
   ]
  },
  {
   "cell_type": "code",
   "execution_count": null,
   "id": "ef1b89ed",
   "metadata": {},
   "outputs": [],
   "source": [
    "# review the collections in our new database\n",
    "print(db.list_collection_names())"
   ]
  },
  {
   "cell_type": "code",
   "execution_count": null,
   "id": "18ab463c",
   "metadata": {},
   "outputs": [],
   "source": [
    "# review a document in the establishments collection\n",
    "print(db.establishments.find_one())"
   ]
  },
  {
   "cell_type": "code",
   "execution_count": null,
   "id": "11c9f11b",
   "metadata": {},
   "outputs": [],
   "source": [
    "# assign the collection to a variable\n",
    "establishments = db['establishments']\n",
    "establishments"
   ]
  },
  {
   "cell_type": "markdown",
   "id": "d5671434",
   "metadata": {},
   "source": [
    "## Part 2: Update the Database"
   ]
  },
  {
   "cell_type": "markdown",
   "id": "314bd884",
   "metadata": {},
   "source": [
    "1. An exciting new halal restaurant just opened in Greenwich, but hasn't been rated yet. The magazine has asked you to include it in your analysis. Add the following restaurant \"Penang Flavours\" to the database."
   ]
  },
  {
   "cell_type": "code",
   "execution_count": null,
   "id": "c2da7648",
   "metadata": {},
   "outputs": [],
   "source": [
    "# Create a dictionary for the new restaurant data\n",
    "new_restaurant = {\n",
    "    '_id': 1,  # MongoDB will automatically generate this if omitted\n",
    "    'FHRSID': None,\n",
    "    'ChangesByServerID': None,\n",
    "    'LocalAuthorityBusinessID': None,\n",
    "    'BusinessName': 'Penang Flavours',\n",
    "    'BusinessType': None,\n",
    "    'BusinessTypeID': None,\n",
    "    'AddressLine1': None,\n",
    "    'AddressLine2': None,\n",
    "    'AddressLine3': None,\n",
    "    'AddressLine4': None,\n",
    "    'PostCode': None,\n",
    "    'Phone': None,\n",
    "    'RatingValue': None,\n",
    "    'RatingKey': None,\n",
    "    'RatingDate': None,\n",
    "    'LocalAuthorityCode': None,\n",
    "    'LocalAuthorityName': None,\n",
    "    'LocalAuthorityWebSite': None,\n",
    "    'LocalAuthorityEmailAddress': None,\n",
    "    'scores': {\n",
    "        'Hygiene': None,\n",
    "        'Structural': None,\n",
    "        'ConfidenceInManagement': None\n",
    "    },\n",
    "    'SchemeType': None,\n",
    "    'geocode': {\n",
    "        'longitude': None,\n",
    "        'latitude': None\n",
    "    },\n",
    "    'RightToReply': None,\n",
    "    'Distance': None,\n",
    "    'NewRatingPending': None,\n",
    "    'meta': {\n",
    "        'dataSource': None,\n",
    "        'extractDate': None,\n",
    "        'itemCount': None,\n",
    "        'returncode': None,\n",
    "        'totalCount': None,\n",
    "        'totalPages': None,\n",
    "        'pageSize': None,\n",
    "        'pageNumber': None\n",
    "    },\n",
    "    'links': [\n",
    "        {\n",
    "            'rel': None,\n",
    "            'href': None\n",
    "        }\n",
    "    ]\n",
    "}"
   ]
  },
  {
   "cell_type": "code",
   "execution_count": null,
   "id": "a6e5cece",
   "metadata": {},
   "outputs": [],
   "source": [
    "# Insert the new restaurant into the collection\n",
    "establishments.insert_one(new_restaurant)"
   ]
  },
  {
   "cell_type": "code",
   "execution_count": null,
   "id": "63bb10f9",
   "metadata": {},
   "outputs": [],
   "source": [
    "# Check that the new restaurant was inserted\n",
    "pprint(establishments.find_one({'BusinessName':'Penang Flavours'}))"
   ]
  },
  {
   "cell_type": "markdown",
   "id": "0ef4395a",
   "metadata": {},
   "source": [
    "2. Find the BusinessTypeID for \"Restaurant/Cafe/Canteen\" and return only the `BusinessTypeID` and `BusinessType` fields."
   ]
  },
  {
   "cell_type": "code",
   "execution_count": null,
   "id": "93c63829",
   "metadata": {},
   "outputs": [],
   "source": [
    "# Find the BusinessTypeID for \"Restaurant/Cafe/Canteen\" and return only the BusinessTypeID and BusinessType fields\n",
    "establishments.find_one(\n",
    "        {'BusinessType': 'Restaurant/Cafe/Canteen'},\n",
    "    {'BusinessTypeID': 1, 'BusinessType': 1, '_id': 0}\n",
    ")"
   ]
  },
  {
   "cell_type": "markdown",
   "id": "4e570caf",
   "metadata": {},
   "source": [
    "3. Update the new restaurant with the `BusinessTypeID` you found."
   ]
  },
  {
   "cell_type": "code",
   "execution_count": null,
   "id": "7f599f3d",
   "metadata": {},
   "outputs": [],
   "source": [
    "# Update the new restaurant with the correct BusinessTypeID\n",
    "establishments.update_one(\n",
    "    {'BusinessName': 'Penang Flavours'},  # Filter to find the specific document\n",
    "    {'$set': {'BusinessTypeID': 1}}      # Update the BusinessTypeID field to 1\n",
    ")"
   ]
  },
  {
   "cell_type": "code",
   "execution_count": null,
   "id": "a6ad16f7",
   "metadata": {},
   "outputs": [],
   "source": [
    "# Confirm that the new restaurant was updated\n",
    "establishments.find_one(\n",
    "        {'BusinessName': 'Penang Flavours'},\n",
    ")"
   ]
  },
  {
   "cell_type": "markdown",
   "id": "67281254",
   "metadata": {},
   "source": [
    "4. The magazine is not interested in any establishments in Dover, so check how many documents contain the Dover Local Authority. Then, remove any establishments within the Dover Local Authority from the database, and check the number of documents to ensure they were deleted."
   ]
  },
  {
   "cell_type": "code",
   "execution_count": null,
   "id": "768474a6",
   "metadata": {},
   "outputs": [],
   "source": [
    "# Find how many documents have LocalAuthorityName as \"Dover\"\n",
    "count = establishments.count_documents({'LocalAuthorityName': 'Dover'})\n",
    "\n",
    "count"
   ]
  },
  {
   "cell_type": "code",
   "execution_count": null,
   "id": "a11d5f1b",
   "metadata": {},
   "outputs": [],
   "source": [
    "# Delete all documents where LocalAuthorityName is \"Dover\"\n",
    "establishments.delete_many({'LocalAuthorityName': 'Dover'})"
   ]
  },
  {
   "cell_type": "code",
   "execution_count": null,
   "id": "2a51aba0",
   "metadata": {},
   "outputs": [],
   "source": [
    "# Check if any remaining documents include Dover\n",
    "count = establishments.count_documents({'LocalAuthorityName': 'Dover'})\n",
    "\n",
    "count"
   ]
  },
  {
   "cell_type": "code",
   "execution_count": null,
   "id": "8c356f7b",
   "metadata": {},
   "outputs": [],
   "source": [
    "# Check that other documents remain with 'find_one'\n",
    "establishments.find_one({'LocalAuthorityName': 'Dover'})"
   ]
  },
  {
   "attachments": {},
   "cell_type": "markdown",
   "id": "e9f1662d",
   "metadata": {},
   "source": [
    "5. Some of the number values are stored as strings, when they should be stored as numbers."
   ]
  },
  {
   "attachments": {},
   "cell_type": "markdown",
   "id": "c46df2df",
   "metadata": {},
   "source": [
    "Use `update_many` to convert `latitude` and `longitude` to decimal numbers."
   ]
  },
  {
   "cell_type": "code",
   "execution_count": null,
   "id": "fd4112ce",
   "metadata": {},
   "outputs": [],
   "source": [
    "# Change the data type from String to Decimal for longitude and latitude\n",
    "\n",
    "# Create a list to store update operations\n",
    "updates = []\n",
    "\n",
    "# Iterate over all documents\n",
    "for doc in establishments.find({'geocode.longitude': {'$type': 'string'}, 'geocode.latitude': {'$type': 'string'}}):\n",
    "    # Convert longitude and latitude from string to float (for double type in MongoDB)\n",
    "    longitude = float(doc['geocode']['longitude'])\n",
    "    latitude = float(doc['geocode']['latitude'])\n",
    "    \n",
    "    # Prepare the update operation\n",
    "    updates.append(\n",
    "        UpdateOne(\n",
    "            {'_id': doc['_id']},  # Filter by _id to target the specific document\n",
    "            {'$set': {'geocode.longitude': longitude, 'geocode.latitude': latitude}}\n",
    "        )\n",
    "    )\n",
    "\n",
    "# Execute the batch update\n",
    "if updates:\n",
    "    result = establishments.bulk_write(updates)\n",
    "    print(\"Documents updated:\", result.modified_count)\n",
    "else:\n",
    "    print(\"No documents found with longitude and latitude as strings.\")"
   ]
  },
  {
   "attachments": {},
   "cell_type": "markdown",
   "id": "142e319c",
   "metadata": {},
   "source": [
    "Use `update_many` to convert `RatingValue` to integer numbers."
   ]
  },
  {
   "cell_type": "code",
   "execution_count": null,
   "id": "04430a5b",
   "metadata": {},
   "outputs": [],
   "source": [
    "# Set non 1-5 Rating Values to Null\n",
    "non_ratings = [\"AwaitingInspection\", \"Awaiting Inspection\", \"AwaitingPublication\", \"Pass\", \"Exempt\"]\n",
    "establishments.update_many({\"RatingValue\": {\"$in\": non_ratings}}, [ {'$set':{ \"RatingValue\" : None}} ])"
   ]
  },
  {
   "cell_type": "code",
   "execution_count": null,
   "id": "92524ccc",
   "metadata": {},
   "outputs": [],
   "source": [
    "# Change the data type from String to Integer for RatingValue\n",
    "\n",
    "result = establishments.update_many(\n",
    "    {'RatingValue': {'$regex': '^\\d+$'}},  # Match documents where RatingValue is a numeric string\n",
    "    [{'$set': {'RatingValue': {'$toInt': '$RatingValue'}}}]  # Convert RatingValue to integer\n",
    ")\n",
    "\n",
    "# Print the number of documents modified\n",
    "print(\"Documents updated:\", result.modified_count)"
   ]
  },
  {
   "cell_type": "code",
   "execution_count": null,
   "id": "0deacaf9",
   "metadata": {},
   "outputs": [],
   "source": [
    "# Check that the coordinates and rating value are now numbers\n",
    "\n",
    "# Check if there are documents where 'longitude', 'latitude', and 'RatingValue' are numeric\n",
    "longitude_numeric_count = establishments.count_documents({'geocode.longitude': {'$type': 'double'}})\n",
    "latitude_numeric_count = establishments.count_documents({'geocode.latitude': {'$type': 'double'}})\n",
    "rating_value_numeric_count = establishments.count_documents({'RatingValue': {'$type': 'int'}})\n",
    "\n",
    "# Print results\n",
    "print(\"Number of documents with 'longitude' as float:\", longitude_numeric_count)\n",
    "print(\"Number of documents with 'latitude' as float:\", latitude_numeric_count)\n",
    "print(\"Number of documents with 'RatingValue' as integer:\", rating_value_numeric_count)"
   ]
  }
 ],
 "metadata": {
  "kernelspec": {
   "display_name": "Python 3 (ipykernel)",
   "language": "python",
   "name": "python3"
  },
  "language_info": {
   "codemirror_mode": {
    "name": "ipython",
    "version": 3
   },
   "file_extension": ".py",
   "mimetype": "text/x-python",
   "name": "python",
   "nbconvert_exporter": "python",
   "pygments_lexer": "ipython3",
   "version": "3.11.8"
  }
 },
 "nbformat": 4,
 "nbformat_minor": 5
}
