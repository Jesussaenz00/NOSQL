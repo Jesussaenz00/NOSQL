{
 "cells": [
  {
   "cell_type": "markdown",
   "id": "9a57c4c6",
   "metadata": {},
   "source": [
    "# Eat Safe, Love"
   ]
  },
  {
   "cell_type": "markdown",
   "id": "064ef857",
   "metadata": {},
   "source": [
    "## Notebook Set Up"
   ]
  },
  {
   "cell_type": "code",
   "execution_count": null,
   "id": "3ecdd008",
   "metadata": {},
   "outputs": [],
   "source": [
    "from pymongo import MongoClient\n",
    "import pandas as pd\n",
    "from pprint import pprint"
   ]
  },
  {
   "cell_type": "code",
   "execution_count": null,
   "id": "59390c4a",
   "metadata": {},
   "outputs": [],
   "source": [
    "# Create an instance of MongoClient\n",
    "mongo = MongoClient(port=27017)"
   ]
  },
  {
   "cell_type": "code",
   "execution_count": null,
   "id": "71e373c1",
   "metadata": {},
   "outputs": [],
   "source": [
    "# assign the uk_food database to a variable name\n",
    "db = mongo['uk_food']"
   ]
  },
  {
   "cell_type": "code",
   "execution_count": null,
   "id": "18ab463c",
   "metadata": {},
   "outputs": [],
   "source": [
    "# review the collections in our database\n",
    "print(db.list_collection_names())"
   ]
  },
  {
   "cell_type": "code",
   "execution_count": null,
   "id": "11c9f11b",
   "metadata": {},
   "outputs": [],
   "source": [
    "# assign the collection to a variable\n",
    "establishments = db['establishments']"
   ]
  },
  {
   "cell_type": "markdown",
   "id": "d5671434",
   "metadata": {},
   "source": [
    "## Part 3: Exploratory Analysis\n",
    "Unless otherwise stated, for each question: \n",
    "* Use `count_documents` to display the number of documents contained in the result.\n",
    "* Display the first document in the results using `pprint`.\n",
    "* Convert the result to a Pandas DataFrame, print the number of rows in the DataFrame, and display the first 10 rows."
   ]
  },
  {
   "cell_type": "markdown",
   "id": "314bd884",
   "metadata": {},
   "source": [
    "### 1. Which establishments have a hygiene score equal to 20?"
   ]
  },
  {
   "cell_type": "code",
   "execution_count": null,
   "id": "c2da7648",
   "metadata": {},
   "outputs": [],
   "source": [
    "# Find the establishments with a hygiene score of 20\n",
    "query_hygene = establishments.find({'scores.Hygiene': 20})\n",
    "\n",
    "# Use count_documents to display the number of documents in the result\n",
    "count1 = establishments.count_documents({'scores.Hygiene': 20})\n",
    "# Display the first document in the results using pprint\n",
    "first_restaurant_hygiene_20 = establishments.find_one({'scores.Hygiene': 20})\n",
    "pprint(f'number of restaurants with Hygene score of 20: {count1}')\n",
    "pprint(first_restaurant_hygiene_20)"
   ]
  },
  {
   "cell_type": "code",
   "execution_count": null,
   "id": "a6e5cece",
   "metadata": {},
   "outputs": [],
   "source": [
    "# Convert the result to a Pandas DataFrame\n",
    "df_Hygene = pd.DataFrame(list(query_hygene))\n",
    "\n",
    "# Display the number of rows in the DataFrame\n",
    "num_rows = df_Hygene.shape[0]\n",
    "print(\"Number of rows in the DataFrame:\", num_rows)\n",
    "\n",
    "# Display the first 10 rows of the DataFrame\n",
    "df_Hygene.head()"
   ]
  },
  {
   "cell_type": "markdown",
   "id": "0ef4395a",
   "metadata": {},
   "source": [
    "### 2. Which establishments in London have a `RatingValue` greater than or equal to 4?"
   ]
  },
  {
   "cell_type": "code",
   "execution_count": null,
   "id": "93c63829",
   "metadata": {},
   "outputs": [],
   "source": [
    "# Find the establishments with London as the Local Authority and has a RatingValue greater than or equal to 4.\n",
    "query_london_rating = establishments.find({\n",
    "    'AddressLine4':'London',\n",
    "    'RatingValue' : {'$gte':4}\n",
    "})\n",
    "\n",
    "# Use count_documents to display the number of documents in the result\n",
    "count_london_rating = establishments.count_documents({\n",
    "    'AddressLine4':'London',\n",
    "    'RatingValue':{'$gte':4}\n",
    "})\n",
    "print(\"Number of documents with AddressLine4 as 'London' and RatingValue >= 4:\", count_london_rating)\n",
    "\n",
    "# Display the first document in the results using pprint\n",
    "first_london_rating = establishments.find_one({\n",
    "    'AddressLine4':'London',\n",
    "    'RatingValue':{'$gte':4}\n",
    "})\n",
    "print(f'The first document with London as local authority and Rating Value equal or greater than 4 is: {first_london_rating}')"
   ]
  },
  {
   "cell_type": "code",
   "execution_count": null,
   "id": "07e24ccb",
   "metadata": {},
   "outputs": [],
   "source": [
    "# Convert the result to a Pandas DataFrame\n",
    "df_london_rating = pd.DataFrame(list(query_london_rating))\n",
    "\n",
    "# Display the number of rows in the DataFrame\n",
    "print(\"Number of rows in the DataFrame:\", df_london_rating.shape[0])\n",
    "# Display the first 10 rows of the DataFrame\n",
    "df_london_rating.head(10)"
   ]
  },
  {
   "attachments": {},
   "cell_type": "markdown",
   "id": "4e570caf",
   "metadata": {},
   "source": [
    "### 3. What are the top 5 establishments with a `RatingValue` rating value of 5, sorted by lowest hygiene score, nearest to the new restaurant added, \"Penang Flavours\"?"
   ]
  },
  {
   "cell_type": "code",
   "execution_count": null,
   "id": "7f599f3d",
   "metadata": {},
   "outputs": [],
   "source": [
    "# Search within 0.01 degree on either side of the latitude and longitude.\n",
    "# Rating value must equal 5\n",
    "# Sort by hygiene score\n",
    "\n",
    "degree_search = 0.01\n",
    "latitude = 51.0783519967076\n",
    "longitude = 1.18590330311705\n",
    "\n",
    "# Define the search range of ±0.01 degrees\n",
    "latitude_min = target_latitude - degree_search\n",
    "latitude_max = target_latitude + degree_search\n",
    "longitude_min = target_longitude - degree_search\n",
    "longitude_max = target_longitude + degree_search\n",
    "\n",
    "\n",
    "query = establishments.find({\n",
    "    'geocode.latitude': {'$gte': latitude_min, '$lte': latitude_max},\n",
    "    'geocode.longitude': {'$gte': longitude_min, '$lte': longitude_max},\n",
    "    'RatingValue': 5\n",
    "})\n",
    "sort = query.sort('scores.Hygiene', 1)  # Sort by Hygiene score in ascending order\n",
    "\n",
    "\n",
    "\n",
    "# Print the results\n",
    "matching_count = establishments.count_documents({\n",
    "    'geocode.latitude': {'$gte': latitude_min, '$lte': latitude_max},\n",
    "    'geocode.longitude': {'$gte': longitude_min, '$lte': longitude_max},\n",
    "    'RatingValue': 5\n",
    "})\n",
    "\n",
    "print(\"Number of matching documents:\", matching_count)"
   ]
  },
  {
   "cell_type": "code",
   "execution_count": null,
   "id": "a6ad16f7",
   "metadata": {},
   "outputs": [],
   "source": [
    "# Convert result to Pandas DataFrame\n",
    "df_results = pd.DataFrame(list(query))\n",
    "\n",
    "# Display the sorted DataFrame\n",
    "df_results.head()"
   ]
  },
  {
   "cell_type": "markdown",
   "id": "67281254",
   "metadata": {},
   "source": [
    "### 4. How many establishments in each Local Authority area have a hygiene score of 0?"
   ]
  },
  {
   "cell_type": "code",
   "execution_count": null,
   "id": "4eeb227e",
   "metadata": {},
   "outputs": [],
   "source": [
    "# Create a pipeline that:\n",
    "# 1. Matches establishments with a hygiene score of 0\n",
    "# 2. Groups the matches by Local Authority\n",
    "# 3. Sorts the matches from highest to lowest\n",
    "pipeline = [\n",
    "    # Step 1: Match documents with a Hygiene score of 0\n",
    "    {'$match': {'scores.Hygiene': 0}},\n",
    "    \n",
    "    # Step 2: Group by AddressLine4 and count the number of occurrences\n",
    "    {'$group': {\n",
    "        '_id': '$AddressLine4',  # Group by AddressLine4\n",
    "        'count': {'$sum': 1}     # Count the number of documents in each group\n",
    "    }},\n",
    "    \n",
    "    # Step 3: Sort the results by count in descending order\n",
    "    {'$sort': {'count': -1}}\n",
    "]\n",
    "\n",
    "# Print the number of documents in the result\n",
    "print(\"Number of documents with a Hygiene score of 0:\", establishments.count_documents({'scores.Hygiene':0}))\n",
    "\n",
    "# Print the first 10 results\n",
    "first_10_matches = establishments.find(\n",
    "    {'scores.Hygiene': 0},\n",
    "    {'BusinessName': 1, '_id': 0}  # Project only the BusinessName field, exclude _id\n",
    ").limit(10)\n",
    "\n",
    "# Print each of the first 10 matches\n",
    "for doc in first_10_matches:\n",
    "    pprint(doc)"
   ]
  },
  {
   "cell_type": "code",
   "execution_count": null,
   "id": "d8aab364",
   "metadata": {},
   "outputs": [],
   "source": [
    "# Convert the result to a Pandas DataFrame\n",
    "results_pipeline = establishments.aggregate(pipeline)\n",
    "df_results_pipeline = pd.DataFrame(list(results_pipeline))\n",
    "\n",
    "# Display the number of rows in the DataFrame\n",
    "print(\"Number of rows in the DataFrame:\", df_results_pipeline.shape[0])\n",
    "\n",
    "# Display the first 10 rows of the DataFrame\n",
    "df_results_pipeline.head(10)"
   ]
  }
 ],
 "metadata": {
  "kernelspec": {
   "display_name": "Python 3 (ipykernel)",
   "language": "python",
   "name": "python3"
  },
  "language_info": {
   "codemirror_mode": {
    "name": "ipython",
    "version": 3
   },
   "file_extension": ".py",
   "mimetype": "text/x-python",
   "name": "python",
   "nbconvert_exporter": "python",
   "pygments_lexer": "ipython3",
   "version": "3.11.8"
  }
 },
 "nbformat": 4,
 "nbformat_minor": 5
}
